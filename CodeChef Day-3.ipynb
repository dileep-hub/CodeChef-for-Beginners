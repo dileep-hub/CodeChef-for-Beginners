{
 "cells": [
  {
   "cell_type": "markdown",
   "metadata": {},
   "source": [
    "# Day -3 in CodeChef"
   ]
  },
  {
   "cell_type": "markdown",
   "metadata": {},
   "source": [
    "## 21 -  Valid Triangles"
   ]
  },
  {
   "cell_type": "code",
   "execution_count": 1,
   "metadata": {},
   "outputs": [
    {
     "name": "stdout",
     "output_type": "stream",
     "text": [
      "3\n",
      "40 40 100\n",
      "YES\n",
      "45 45 90\n",
      "YES\n",
      "180 1 1\n",
      "NO\n"
     ]
    }
   ],
   "source": [
    "x = int(input())\n",
    "for i in range(x):\n",
    "    a, b, c = map(int, input().split())\n",
    "    if a+b+c == 180:\n",
    "        print(\"YES\")\n",
    "    else:\n",
    "        print(\"NO\")"
   ]
  },
  {
   "cell_type": "markdown",
   "metadata": {},
   "source": [
    "## 22 - Smallest Numbers of Notes"
   ]
  },
  {
   "cell_type": "code",
   "execution_count": 2,
   "metadata": {},
   "outputs": [
    {
     "name": "stdout",
     "output_type": "stream",
     "text": [
      "3\n",
      "1200\n",
      "12\n",
      "500\n",
      "5\n",
      "242\n",
      "7\n"
     ]
    }
   ],
   "source": [
    "x = int(input())\n",
    "\n",
    "for i in range(x):\n",
    "    y = int(input())\n",
    "    z = [100, 50, 10, 5, 2, 1]\n",
    "    count = 0\n",
    "    j = 0\n",
    "    while y:       # *** use of while y function\n",
    "        if y >= z[j]:\n",
    "            y -= z[j]\n",
    "            count += 1\n",
    "\n",
    "        else:\n",
    "            j += 1\n",
    "    print(count)"
   ]
  },
  {
   "cell_type": "markdown",
   "metadata": {},
   "source": [
    "## 23 - Mahasena"
   ]
  },
  {
   "cell_type": "code",
   "execution_count": 3,
   "metadata": {},
   "outputs": [
    {
     "name": "stdout",
     "output_type": "stream",
     "text": [
      "4\n",
      "11 12 13 14\n",
      "NOT READY\n"
     ]
    }
   ],
   "source": [
    "x = int(input())\n",
    "y = list(map(int, input().split(' ')))   # *** importance of list\n",
    "ec = 0\n",
    "oc = 0\n",
    "if len(y) == x:               # use of if len(y) == x 5--> 1 2 3 4 5\n",
    "    for _ in y:\n",
    "        if _%2 == 0:\n",
    "            ec += 1\n",
    "\n",
    "\n",
    "        else:\n",
    "            oc += 1\n",
    "    if ec > oc:\n",
    "        print(\"READY FOR BATTLE\")\n",
    "    elif oc >= ec:\n",
    "        print(\"NOT READY\")"
   ]
  },
  {
   "cell_type": "markdown",
   "metadata": {},
   "source": [
    "## 24 - The Block Game"
   ]
  },
  {
   "cell_type": "code",
   "execution_count": 1,
   "metadata": {},
   "outputs": [
    {
     "name": "stdout",
     "output_type": "stream",
     "text": [
      "3\n",
      "331\n",
      "loses\n",
      "666\n",
      "wins\n",
      "343\n",
      "wins\n"
     ]
    }
   ],
   "source": [
    "x = int(input())\n",
    "for i in range(x):\n",
    "    y = (input())\n",
    "    if y == y[::-1]:\n",
    "        print(\"wins\")\n",
    "    else:\n",
    "        print(\"loses\")"
   ]
  },
  {
   "cell_type": "markdown",
   "metadata": {},
   "source": [
    "## 25 - Primality Test"
   ]
  },
  {
   "cell_type": "code",
   "execution_count": 2,
   "metadata": {},
   "outputs": [
    {
     "name": "stdout",
     "output_type": "stream",
     "text": [
      "5\n",
      "23\n",
      "yes\n",
      "13\n",
      "yes\n",
      "20\n",
      "no\n",
      "1000\n",
      "no\n",
      "99991\n",
      "yes\n"
     ]
    }
   ],
   "source": [
    "for i in range(int(input())):\n",
    "    x = int(input())\n",
    "    if x <= 1:\n",
    "        print(\"no\")\n",
    "    else:\n",
    "        for j in range(2, x):\n",
    "            if x%j == 0:\n",
    "                print(\"no\")\n",
    "                break    # here if the num is div by any num then it go out of the loop\n",
    "        else:\n",
    "            print(\"yes\")\n"
   ]
  },
  {
   "cell_type": "markdown",
   "metadata": {},
   "source": [
    "## 26 - Decrement OR Increment"
   ]
  },
  {
   "cell_type": "code",
   "execution_count": 3,
   "metadata": {},
   "outputs": [
    {
     "name": "stdout",
     "output_type": "stream",
     "text": [
      "5\n",
      "4\n"
     ]
    }
   ],
   "source": [
    "x = int(input())\n",
    "if x%4 == 0:\n",
    "    x += 1\n",
    "else:\n",
    "    x -= 1\n",
    "print(x)"
   ]
  },
  {
   "cell_type": "markdown",
   "metadata": {},
   "source": [
    "## 27 -  Id and Ship"
   ]
  },
  {
   "cell_type": "code",
   "execution_count": 4,
   "metadata": {},
   "outputs": [
    {
     "name": "stdout",
     "output_type": "stream",
     "text": [
      "3\n",
      "B\n",
      "BattleShip\n",
      "c\n",
      "Cruiser\n",
      "D\n",
      "Destroyer\n"
     ]
    }
   ],
   "source": [
    "for i in range(int(input())):\n",
    "    y = input()\n",
    "    if y == \"B\" or y == \"b\":\n",
    "        print(\"BattleShip\")\n",
    "    elif y == \"C\" or y == \"c\":\n",
    "        print(\"Cruiser\")\n",
    "    elif y == \"D\" or y == \"d\":\n",
    "        print(\"Destroyer\")\n",
    "    elif y == \"F\" or y == \"f\":\n",
    "        print(\"Frigate\")\n"
   ]
  },
  {
   "cell_type": "markdown",
   "metadata": {},
   "source": [
    "## 28 - Sum OR Difference"
   ]
  },
  {
   "cell_type": "code",
   "execution_count": 1,
   "metadata": {},
   "outputs": [
    {
     "name": "stdout",
     "output_type": "stream",
     "text": [
      "82\n",
      "28\n",
      "54\n"
     ]
    }
   ],
   "source": [
    "x = int(input())\n",
    "y = int(input())\n",
    "if x > y:\n",
    "    print(x-y)\n",
    "else:\n",
    "    print(x+y)"
   ]
  },
  {
   "cell_type": "markdown",
   "metadata": {},
   "source": [
    "## 29 - Cutting Recipes"
   ]
  },
  {
   "cell_type": "code",
   "execution_count": 1,
   "metadata": {},
   "outputs": [
    {
     "name": "stdout",
     "output_type": "stream",
     "text": [
      "3\n",
      "2 4 4\n",
      "1 1 \n",
      "3 2 3 4\n",
      "2 3 4 \n",
      "4 3 15 9 6\n",
      "1 5 3 2 \n"
     ]
    }
   ],
   "source": [
    "import math\n",
    "x = int(input())\n",
    "for i in range(x):\n",
    "    lst = list(map(int, input().split()))\n",
    "    del lst[0]\n",
    "    g = 0\n",
    "    for j in range(len(lst)):\n",
    "        g = math.gcd(g, lst[j]) # use of gcd\n",
    "    for k in (lst):\n",
    "        print(k//g, end=' ')\n",
    "    print()          # use of print()"
   ]
  },
  {
   "cell_type": "markdown",
   "metadata": {},
   "source": [
    "## 30 - Lapindromes"
   ]
  },
  {
   "cell_type": "code",
   "execution_count": 1,
   "metadata": {},
   "outputs": [
    {
     "name": "stdout",
     "output_type": "stream",
     "text": [
      "6\n",
      "gaga\n",
      "YES\n",
      "abcde\n",
      "NO\n",
      "rotor\n",
      "YES\n",
      "xyzxy\n",
      "YES\n",
      "abbaab\n",
      "NO\n",
      "ababc\n",
      "NO\n"
     ]
    }
   ],
   "source": [
    "x = int(input())\n",
    "for i in range(x):\n",
    "    y = input()\n",
    "    if len(y)%2 == 0 :\n",
    "        if sorted(y[0:len(y)//2]) == sorted(y[len(y)//2:]):\n",
    "            print(\"YES\")\n",
    "        else:\n",
    "            print(\"NO\")\n",
    "    elif len(y)%2 != 0:\n",
    "        if sorted(y[0:(len(y)-1)//2]) == sorted(y[(((len(y)-1)//2)+1):]):\n",
    "            print(\"YES\")\n",
    "        else:\n",
    "            print(\"NO\")"
   ]
  }
 ],
 "metadata": {
  "kernelspec": {
   "display_name": "Python 3",
   "language": "python",
   "name": "python3"
  },
  "language_info": {
   "codemirror_mode": {
    "name": "ipython",
    "version": 3
   },
   "file_extension": ".py",
   "mimetype": "text/x-python",
   "name": "python",
   "nbconvert_exporter": "python",
   "pygments_lexer": "ipython3",
   "version": "3.8.3rc1"
  }
 },
 "nbformat": 4,
 "nbformat_minor": 4
}
