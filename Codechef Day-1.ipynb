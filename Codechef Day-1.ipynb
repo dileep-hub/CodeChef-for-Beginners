{
 "cells": [
  {
   "cell_type": "markdown",
   "metadata": {},
   "source": [
    "## 1- ATM\n"
   ]
  },
  {
   "cell_type": "code",
   "execution_count": 1,
   "metadata": {},
   "outputs": [
    {
     "name": "stdout",
     "output_type": "stream",
     "text": [
      "35 120.00\n",
      "84.5\n"
     ]
    }
   ],
   "source": [
    "x, y = map(float, input().split())\n",
    "if (x+0.5) < y:\n",
    "    if x%5 == 0:\n",
    "        y -= (x+0.5)\n",
    "print(y)\n"
   ]
  },
  {
   "cell_type": "markdown",
   "metadata": {},
   "source": [
    "## 2 - Enormous input Test"
   ]
  },
  {
   "cell_type": "code",
   "execution_count": 2,
   "metadata": {},
   "outputs": [
    {
     "name": "stdout",
     "output_type": "stream",
     "text": [
      "7 3\n",
      "1\n",
      "51\n",
      "966369\n",
      "7\n",
      "9\n",
      "999996\n",
      "11\n",
      "4\n"
     ]
    }
   ],
   "source": [
    "x, y = map(int, input().split())    # Taking imput like n, m\n",
    "n = 0\n",
    "for i in range(x):\n",
    "    z = int(input())\n",
    "    if z%y == 0:\n",
    "        n += 1\n",
    "print(n)"
   ]
  },
  {
   "cell_type": "markdown",
   "metadata": {},
   "source": [
    "## 3 - Add Two Numbers"
   ]
  },
  {
   "cell_type": "code",
   "execution_count": 3,
   "metadata": {},
   "outputs": [
    {
     "name": "stdout",
     "output_type": "stream",
     "text": [
      "3\n",
      "1 2\n",
      "3\n",
      "100 200\n",
      "300\n",
      "10 40\n",
      "50\n"
     ]
    }
   ],
   "source": [
    "x = int(input())\n",
    "for i in range(x):\n",
    "    n, m = map(int, input().split())\n",
    "    y = n+m\n",
    "\n",
    "    print(y)"
   ]
  },
  {
   "cell_type": "markdown",
   "metadata": {},
   "source": [
    "## 4 - Number Mirror"
   ]
  },
  {
   "cell_type": "code",
   "execution_count": 4,
   "metadata": {},
   "outputs": [
    {
     "name": "stdout",
     "output_type": "stream",
     "text": [
      "123\n",
      "123\n"
     ]
    }
   ],
   "source": [
    "x = int(input())\n",
    "print(x)"
   ]
  },
  {
   "cell_type": "markdown",
   "metadata": {},
   "source": [
    "## 5 - Sum of Digits"
   ]
  },
  {
   "cell_type": "code",
   "execution_count": 5,
   "metadata": {},
   "outputs": [
    {
     "name": "stdout",
     "output_type": "stream",
     "text": [
      "3\n",
      "12345\n",
      "15\n",
      "31203\n",
      "9\n",
      "2123\n",
      "8\n"
     ]
    }
   ],
   "source": [
    "x = int(input())\n",
    "\n",
    "for i in range(x):      \n",
    "    y = (input())     # integer cannot be iterable\n",
    "    z = 0              # pos of z=0\n",
    "    for _ in y:\n",
    "        z += int(_)\n",
    "    print(z)            # here print position is very importent"
   ]
  },
  {
   "cell_type": "markdown",
   "metadata": {},
   "source": [
    "## 6 - Find Remainder"
   ]
  },
  {
   "cell_type": "code",
   "execution_count": 6,
   "metadata": {},
   "outputs": [
    {
     "name": "stdout",
     "output_type": "stream",
     "text": [
      "3\n",
      "1 2\n",
      "1\n",
      "100 200\n",
      "100\n",
      "40 15\n",
      "10\n"
     ]
    }
   ],
   "source": [
    "x = int(input())\n",
    "for i in range(x):\n",
    "    n ,m = map(int, input().split())\n",
    "    y = n%m\n",
    "    print(y)"
   ]
  },
  {
   "cell_type": "markdown",
   "metadata": {},
   "source": [
    "## 7 - Small Factorials"
   ]
  },
  {
   "cell_type": "code",
   "execution_count": 7,
   "metadata": {},
   "outputs": [
    {
     "name": "stdout",
     "output_type": "stream",
     "text": [
      "4\n",
      "1\n",
      "1\n",
      "2\n",
      "2\n",
      "3\n",
      "6\n",
      "5\n",
      "120\n"
     ]
    }
   ],
   "source": [
    "x = int(input())\n",
    "for i in range(x):\n",
    "    y = int(input())\n",
    "    z = 1            \n",
    "    for j in range(1, y+1):\n",
    "        z = z *j\n",
    "        j += 1\n",
    "    print(z)"
   ]
  },
  {
   "cell_type": "markdown",
   "metadata": {},
   "source": [
    "## 8 - Turbo Sort"
   ]
  },
  {
   "cell_type": "code",
   "execution_count": 8,
   "metadata": {},
   "outputs": [
    {
     "name": "stdout",
     "output_type": "stream",
     "text": [
      "5\n",
      "5\n",
      "3\n",
      "6\n",
      "7\n",
      "1\n",
      "1\n",
      "3\n",
      "5\n",
      "6\n",
      "7\n"
     ]
    }
   ],
   "source": [
    "x = int(input())\n",
    "l = []\n",
    "for i in range(x):\n",
    "    y = int(input())\n",
    "    l.append(y)\n",
    "l.sort()\n",
    "for j in l:           # we can take [for j in l:] if l is a list if it is a string not possible\n",
    "    print(j)"
   ]
  },
  {
   "cell_type": "markdown",
   "metadata": {},
   "source": [
    "## 9 - First and Last Digit"
   ]
  },
  {
   "cell_type": "code",
   "execution_count": 9,
   "metadata": {},
   "outputs": [
    {
     "name": "stdout",
     "output_type": "stream",
     "text": [
      "3\n",
      "1234\n",
      "5\n",
      "124894\n",
      "5\n",
      "242323\n",
      "5\n"
     ]
    }
   ],
   "source": [
    "x = int(input())\n",
    "for i in range(x):\n",
    "    y = input()\n",
    "    for j in y:\n",
    "        z = int(y[0]) + int(y[-1])\n",
    "    print(z)"
   ]
  },
  {
   "cell_type": "markdown",
   "metadata": {},
   "source": [
    "## 10 - Lucky Four"
   ]
  },
  {
   "cell_type": "code",
   "execution_count": 10,
   "metadata": {},
   "outputs": [
    {
     "name": "stdout",
     "output_type": "stream",
     "text": [
      "5\n",
      "447474\n",
      "4\n",
      "228\n",
      "0\n",
      "6664\n",
      "1\n",
      "40\n",
      "1\n",
      "81\n",
      "0\n"
     ]
    }
   ],
   "source": [
    "x = int(input())\n",
    "\n",
    "for i in range(x):\n",
    "    y = input()      # here even y is input is a integer to iterate it we shud not consider as integer\n",
    "    z = 0\n",
    "    for j in y:\n",
    "        if int(j) == 4:   # int(j) here int is important without int it  becomes string\n",
    "            z += 1\n",
    "    print(z)\n"
   ]
  }
 ],
 "metadata": {
  "kernelspec": {
   "display_name": "Python 3",
   "language": "python",
   "name": "python3"
  },
  "language_info": {
   "codemirror_mode": {
    "name": "ipython",
    "version": 3
   },
   "file_extension": ".py",
   "mimetype": "text/x-python",
   "name": "python",
   "nbconvert_exporter": "python",
   "pygments_lexer": "ipython3",
   "version": "3.8.3rc1"
  }
 },
 "nbformat": 4,
 "nbformat_minor": 4
}
