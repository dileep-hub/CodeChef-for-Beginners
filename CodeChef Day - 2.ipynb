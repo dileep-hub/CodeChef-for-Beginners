{
 "cells": [
  {
   "cell_type": "markdown",
   "metadata": {},
   "source": [
    "# Day - 2"
   ]
  },
  {
   "cell_type": "markdown",
   "metadata": {},
   "source": [
    "## 11 - Reverse The Number"
   ]
  },
  {
   "cell_type": "code",
   "execution_count": 1,
   "metadata": {},
   "outputs": [
    {
     "name": "stdout",
     "output_type": "stream",
     "text": [
      "4\n",
      "12345\n",
      "54321\n",
      "31203\n",
      "30213\n",
      "2123\n",
      "3212\n",
      "2300\n",
      "32\n"
     ]
    }
   ],
   "source": [
    "x = int(input())\n",
    "for i in range(x):\n",
    "    y = input()\n",
    "    print(int(y[::-1]))  # here int is very important"
   ]
  },
  {
   "cell_type": "markdown",
   "metadata": {},
   "source": [
    "## 12 - Find The Lead"
   ]
  },
  {
   "cell_type": "code",
   "execution_count": 2,
   "metadata": {},
   "outputs": [
    {
     "name": "stdout",
     "output_type": "stream",
     "text": [
      "5\n",
      "140 82\n",
      "89 134\n",
      "90 110\n",
      "112 106\n",
      "88 90\n",
      "1 58\n"
     ]
    }
   ],
   "source": [
    "x = int(input())\n",
    "n1 = 0        # use of n1=0, m1=0\n",
    "m1 = 0\n",
    "lead = 0\n",
    "for i in range(x):\n",
    "    n, m = map(int, input().split())\n",
    "    n1 += n\n",
    "    m1 += m              # use of +=\n",
    "    if n1 > m1:\n",
    "        if lead<n1-m1:\n",
    "            win = 1\n",
    "            lead = n1-m1\n",
    "    else:\n",
    "        if lead<m1-n1:\n",
    "            win = 2\n",
    "            lead = m1-n1\n",
    "print(win, lead)\n"
   ]
  },
  {
   "cell_type": "markdown",
   "metadata": {},
   "source": [
    "## 13 - Finding Square Roots"
   ]
  },
  {
   "cell_type": "code",
   "execution_count": 3,
   "metadata": {},
   "outputs": [
    {
     "name": "stdout",
     "output_type": "stream",
     "text": [
      "3\n",
      "10\n",
      "3\n",
      "5\n",
      "2\n",
      "10000\n",
      "100\n"
     ]
    }
   ],
   "source": [
    "import math\n",
    "x = int(input())   # finding square root\n",
    "for i in range(x):\n",
    "    y = int(input())\n",
    "    z = math.sqrt(y)\n",
    "    print(int(z))"
   ]
  },
  {
   "cell_type": "markdown",
   "metadata": {},
   "source": [
    "## 15 - Second Largest"
   ]
  },
  {
   "cell_type": "code",
   "execution_count": 4,
   "metadata": {},
   "outputs": [
    {
     "name": "stdout",
     "output_type": "stream",
     "text": [
      "3\n",
      "120 11 400\n",
      "120\n",
      "10213 312 10\n",
      "312\n",
      "10 3 450\n",
      "10\n"
     ]
    }
   ],
   "source": [
    "x = int(input())\n",
    "for i in range(x):\n",
    "    a, b, c = map(int, input().split())\n",
    "    y = (a,b,c)\n",
    "    z = sorted(y)\n",
    "    print(z[1])"
   ]
  },
  {
   "cell_type": "markdown",
   "metadata": {},
   "source": [
    "## 16 - Small Factorial"
   ]
  },
  {
   "cell_type": "code",
   "execution_count": 5,
   "metadata": {},
   "outputs": [
    {
     "name": "stdout",
     "output_type": "stream",
     "text": [
      "3\n",
      "3\n",
      "6\n",
      "4\n",
      "24\n",
      "5\n",
      "120\n"
     ]
    }
   ],
   "source": [
    "x = int(input())\n",
    "for i in range(x):\n",
    "    y = int(input())\n",
    "    z = 1\n",
    "    for j in range(1, y+1):\n",
    "        z = z * j\n",
    "    print(z)"
   ]
  },
  {
   "cell_type": "markdown",
   "metadata": {},
   "source": [
    "## 17 - Ciel and Receipt"
   ]
  },
  {
   "cell_type": "code",
   "execution_count": 6,
   "metadata": {},
   "outputs": [
    {
     "name": "stdout",
     "output_type": "stream",
     "text": [
      "4\n",
      "10\n",
      "2\n",
      "256\n",
      "1\n",
      "255\n",
      "8\n",
      "4096\n",
      "2\n"
     ]
    }
   ],
   "source": [
    "x = int(input())\n",
    "for i in range(x):\n",
    "    y = int(input())\n",
    "    arr = [2048, 1024, 512, 256, 128, 64, 32, 16, 8, 4, 2, 1]\n",
    "    count = 0\n",
    "    j = 0\n",
    "    while y:\n",
    "        if (y>=arr[j]):\n",
    "            y -= arr[j]\n",
    "            count+=1\n",
    "        else:\n",
    "            j += 1\n",
    "    print(count)"
   ]
  },
  {
   "cell_type": "markdown",
   "metadata": {},
   "source": [
    "## 18 - Helping Chef"
   ]
  },
  {
   "cell_type": "code",
   "execution_count": 1,
   "metadata": {},
   "outputs": [
    {
     "name": "stdout",
     "output_type": "stream",
     "text": [
      "3\n",
      "1\n",
      "Thanks for helping Chef!\n",
      "12\n",
      "-1\n",
      "-5\n",
      "Thanks for helping Chef!\n"
     ]
    }
   ],
   "source": [
    "x = int(input())\n",
    "for i in range(x):\n",
    "    y = int(input())\n",
    "    if y < 10:\n",
    "        print(\"Thanks for helping Chef!\")\n",
    "    else:\n",
    "        print(-1)"
   ]
  },
  {
   "cell_type": "markdown",
   "metadata": {},
   "source": [
    "## 19 - Chef and Remissness"
   ]
  },
  {
   "cell_type": "code",
   "execution_count": 2,
   "metadata": {},
   "outputs": [
    {
     "name": "stdout",
     "output_type": "stream",
     "text": [
      "1\n",
      "19 17\n",
      "19 36\n"
     ]
    }
   ],
   "source": [
    "x = int(input())\n",
    "for i in range(x):\n",
    "    n, m = map(int, input().split())\n",
    "    z = 0\n",
    "    y = 0\n",
    "    if n > m:\n",
    "        y = n\n",
    "    elif m>n:\n",
    "        y = m\n",
    "    z = m+n\n",
    "    print(y, z)"
   ]
  },
  {
   "cell_type": "markdown",
   "metadata": {},
   "source": [
    "## 20 - Chef and Operators"
   ]
  },
  {
   "cell_type": "code",
   "execution_count": 3,
   "metadata": {},
   "outputs": [
    {
     "name": "stdout",
     "output_type": "stream",
     "text": [
      "3\n",
      "10 20\n",
      "<\n",
      "20 10\n",
      ">\n",
      "10 10\n",
      "=\n"
     ]
    }
   ],
   "source": [
    "x = int(input())\n",
    "for i in range(x):\n",
    "    n, m = map(int, input().split())\n",
    "    if n>m:\n",
    "        print(\">\")\n",
    "    elif m>n:\n",
    "        print(\"<\")\n",
    "    else:\n",
    "        print(\"=\")"
   ]
  }
 ],
 "metadata": {
  "kernelspec": {
   "display_name": "Python 3",
   "language": "python",
   "name": "python3"
  },
  "language_info": {
   "codemirror_mode": {
    "name": "ipython",
    "version": 3
   },
   "file_extension": ".py",
   "mimetype": "text/x-python",
   "name": "python",
   "nbconvert_exporter": "python",
   "pygments_lexer": "ipython3",
   "version": "3.8.3rc1"
  }
 },
 "nbformat": 4,
 "nbformat_minor": 4
}
